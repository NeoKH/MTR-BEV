{
 "cells": [
  {
   "cell_type": "code",
   "execution_count": 3,
   "metadata": {},
   "outputs": [],
   "source": [
    "import torch\n",
    "import torch.nn as nn\n",
    "import matplotlib.pyplot as plt\n",
    "%matplotlib inline"
   ]
  },
  {
   "cell_type": "code",
   "execution_count": null,
   "metadata": {},
   "outputs": [],
   "source": [
    "# 创建一个全连接层\n",
    "input_size = 10\n",
    "output_size = 5\n",
    "fc_layer = nn.Linear(input_size, output_size)\n",
    "\n",
    "# 初始化参数\n",
    "nn.init.xavier_uniform_(fc_layer.weight.data)\n",
    "\n",
    "# 获取权重矩阵\n",
    "weights = fc_layer.weight.data.numpy()\n",
    "\n",
    "# 绘制热力图\n",
    "plt.imshow(weights, cmap='viridis', interpolation='nearest')\n",
    "plt.colorbar()\n",
    "\n",
    "# 显示热力图\n",
    "plt.show()"
   ]
  },
  {
   "cell_type": "code",
   "execution_count": null,
   "metadata": {},
   "outputs": [],
   "source": [
    "# 定义特征图的形状\n",
    "N, C, H, W = 2, 3, 20, 20\n",
    "\n",
    "# 创建空的特征图\n",
    "feature_map = torch.zeros((N, C, H, W), dtype=torch.float32)\n",
    "\n",
    "# 划分四个区域并赋值\n",
    "feature_map[:, :, :H//2, :W//2] = 0.0  # 左上区域\n",
    "feature_map[:, :, :H//2, W//2:] = 0.3  # 右上区域\n",
    "feature_map[:, :, H//2:, :W//2] = 0.6  # 左下区域\n",
    "feature_map[:, :, H//2:, W//2:] = 1.0  # 右下区域\n",
    "\n",
    "img_0 = feature_map[0].numpy()\n",
    "plt.imshow(img_0)\n",
    "plt.show()"
   ]
  }
 ],
 "metadata": {
  "kernelspec": {
   "display_name": "bev-mtr",
   "language": "python",
   "name": "python3"
  },
  "language_info": {
   "codemirror_mode": {
    "name": "ipython",
    "version": 3
   },
   "file_extension": ".py",
   "mimetype": "text/x-python",
   "name": "python",
   "nbconvert_exporter": "python",
   "pygments_lexer": "ipython3",
   "version": "3.8.18"
  }
 },
 "nbformat": 4,
 "nbformat_minor": 2
}
